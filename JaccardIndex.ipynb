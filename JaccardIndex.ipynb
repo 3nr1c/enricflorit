{
 "metadata": {
  "name": "",
  "signature": "sha256:333d9b7233120e304d9a0534d145ee332fb8cf7325a4c8190904db2877b192b0"
 },
 "nbformat": 3,
 "nbformat_minor": 0,
 "worksheets": [
  {
   "cells": [
    {
     "cell_type": "markdown",
     "metadata": {},
     "source": [
      "# Jaccard Index\n",
      "\n",
      "It's been a week since I have started to work in an algorithm called prioritySort. A key part of this is the calculation of the Jaccard Index between two sets. As this has to be done a huge number of times, I want to study this Index from nearer to improve the performance of the main algorithm.\n",
      "\n",
      "I will start defining the Jaccard Index, for any readers who might want to learn from or use this notebook. Given two sets A and B, the Jaccard Index is the ratio between the number of elements in common of A and B (its intersection) and the number of elements of the union of A and B.\n",
      "\n",
      "We will first consider how to represent the inputs. We need obviously to represent two sets, A and B. As we are working with python in this document, we could use the data structure **set**. But I want to implement this algorithm later in PHP, or even a more efficient language such as C++. So no sets. We can use simple lists, or arrays, instead. We only need to take care of the repeated elements. For developing a useful algorithm here, we will just assume that our lists contain unique elements.\n",
      "\n",
      "\n",
      "# Brute-Force implementation\n",
      "\n",
      "This algorithm is quite simple. It consists of checking if each element of set A is in the set B. "
     ]
    },
    {
     "cell_type": "code",
     "collapsed": false,
     "input": [
      "def jaccard(A, B):\n",
      "    intersection = 0.0\n",
      "    for i in A:\n",
      "        for j in B: \n",
      "            if j == i:\n",
      "                intersection += 1.0\n",
      "    return intersection/(len(A)+len(B)-intersection)"
     ],
     "language": "python",
     "metadata": {},
     "outputs": [],
     "prompt_number": 6
    },
    {
     "cell_type": "code",
     "collapsed": false,
     "input": [
      "A = [2,4,1,5,3,6,7,11,34]\n",
      "B = [34,55,2,10,23,4,7,1]\n",
      "\n",
      "print jaccard(A, B)"
     ],
     "language": "python",
     "metadata": {},
     "outputs": [
      {
       "output_type": "stream",
       "stream": "stdout",
       "text": [
        "0.416666666667\n"
       ]
      }
     ],
     "prompt_number": 7
    },
    {
     "cell_type": "markdown",
     "metadata": {},
     "source": [
      "This is obviusly quite inefficient. Its complexity is n\u00b2. Not bad, but it can be much better. \n",
      "\n",
      "# Let's put some order\n",
      "\n",
      "For instance, let's suppose A and B are lists instead of sets (which we are already taking for granted) and let's order both lists. Now we can use binary search to look for each element in both sets."
     ]
    },
    {
     "cell_type": "code",
     "collapsed": false,
     "input": [
      "def binarySearch(needle, haystack):\n",
      "    \" We are assuming that the haystack is in order\"\n",
      "    first = 0\n",
      "    last = len(haystack)-1\n",
      "    found = False\n",
      "\n",
      "    while first<=last and not found:\n",
      "        midpoint = (first + last)/2\n",
      "        if haystack[midpoint] == needle:\n",
      "            found = True\n",
      "        else:\n",
      "            if needle < haystack[midpoint]:\n",
      "                last = midpoint-1\n",
      "            else:\n",
      "                first = midpoint+1\n",
      "\n",
      "    return found\n",
      "\n",
      "print binarySearch(3,[0,2,3,4])"
     ],
     "language": "python",
     "metadata": {},
     "outputs": [
      {
       "output_type": "stream",
       "stream": "stdout",
       "text": [
        "True\n"
       ]
      }
     ],
     "prompt_number": 8
    },
    {
     "cell_type": "code",
     "collapsed": false,
     "input": [
      "def binJaccard(A, B):\n",
      "    if len(A) > len(B):\n",
      "        A,B = B,A\n",
      "        \n",
      "    intersection = 0.0\n",
      "    for i in A:\n",
      "        if binarySearch(i, B):\n",
      "            intersection += 1.0\n",
      "    return intersection/(len(A)+len(B)-intersection)"
     ],
     "language": "python",
     "metadata": {},
     "outputs": [],
     "prompt_number": 9
    },
    {
     "cell_type": "code",
     "collapsed": false,
     "input": [
      "A = [1,2,3,4,5,6,7,11,34]\n",
      "B = [1,2,4,7,10,23,34,55]\n",
      "\n",
      "print binJaccard(A, B)"
     ],
     "language": "python",
     "metadata": {},
     "outputs": [
      {
       "output_type": "stream",
       "stream": "stdout",
       "text": [
        "0.416666666667\n"
       ]
      }
     ],
     "prompt_number": 10
    },
    {
     "cell_type": "markdown",
     "metadata": {},
     "source": [
      "Now we have achieved a complexity of **nlog(m)**, where n = min{len(A),len(B)} and m = max{len(A),len(B)}. Because we are using binary search, this complexity is fixed (we will always search something in log(m)), whichis quite efficient. "
     ]
    },
    {
     "cell_type": "markdown",
     "metadata": {},
     "source": [
      "# Approximated Jaccard Index\n",
      "\n",
      "What if I told you, that I really don't care about the actual value of the Jaccard Index between two sets A and B? Perhaps given some (more than two) sets I want to compare the similarities between all the sets. Could that be done without knowing the exact value of this index? And more importantly, can it be done in less than nlogm?\n",
      "\n",
      "# Binary Position\n",
      "\n",
      "Let's change the algorithm for binary search. Now it won't return any boolean. Instead, it will return the position of the element we are looking for."
     ]
    },
    {
     "cell_type": "code",
     "collapsed": false,
     "input": [
      "def binaryPosition(needle, haystack):\n",
      "    \" We are assuming that the haystack is in order\"\n",
      "    first = 0\n",
      "    last = len(haystack)-1\n",
      "    found = False\n",
      "\n",
      "    while first<=last and not found:\n",
      "        midpoint = (first + last)/2\n",
      "        if haystack[midpoint] == needle:\n",
      "            found = True\n",
      "        else:\n",
      "            if needle < haystack[midpoint]:\n",
      "                last = midpoint-1\n",
      "            else:\n",
      "                first = midpoint+1\n",
      "    if found:\n",
      "        return midpoint\n",
      "    else:\n",
      "        return -1\n",
      "    \n",
      "print binaryPosition(1,[2,3,4,1,8,-1,0])"
     ],
     "language": "python",
     "metadata": {},
     "outputs": [
      {
       "output_type": "stream",
       "stream": "stdout",
       "text": [
        "3\n"
       ]
      }
     ],
     "prompt_number": 11
    },
    {
     "cell_type": "markdown",
     "metadata": {},
     "source": [
      "Let's see now how can se use this modified binary search. Our next algorithm will do the following: search the first and the last element of the smallest list (either A or B) in the big list. This will mean that the maximum number of elements in common between A and B is min(distance of both elements in A, distance of both elements in B). This is an \"optimistic\" way of calculating the intersection of A and B, i.e., this function will return a value greater or equal to the actual jI."
     ]
    },
    {
     "cell_type": "code",
     "collapsed": false,
     "input": [
      "def approximateJaccard(A, B):\n",
      "    \"Assume A and B ordered\"\n",
      "    if not A and not B:\n",
      "        return 1 # definition\n",
      "    elif not A or not B:\n",
      "        return 0\n",
      "    elif len(A)>len(B):\n",
      "        A,B = B,A\n",
      "\n",
      "    x = 0\n",
      "    y = len(A)-1\n",
      "    \n",
      "    posX = binaryPosition(A[x], B)\n",
      "    while posX == -1 and x < len(A):\n",
      "        x+=1\n",
      "        posX = binaryPosition(A[x], B)\n",
      "    \n",
      "    if posX == -1:\n",
      "        return 0\n",
      "    else:\n",
      "        posY = binaryPosition(A[y], B)\n",
      "        while posY == -1 and y > 0:\n",
      "            y-=1\n",
      "            posY = binaryPosition(A[y], B)\n",
      "\n",
      "        intersection = min(posY-posX,y-x)+1\n",
      "\n",
      "        return float(intersection)/(len(A)+len(B)-intersection)\n",
      "\n",
      "A = [1,2,3,4,5,6,7,11,34]\n",
      "B = [1,2,4,7,10,23,34,55]\n",
      "\n",
      "print A, B\n",
      "print binJaccard(A, B)\n",
      "print approximateJaccard(A, B)\n",
      "\n",
      "A = [2,3]\n",
      "B = [1,2,3]\n",
      "print A, B\n",
      "print binJaccard(A, B)\n",
      "print approximateJaccard(A, B)"
     ],
     "language": "python",
     "metadata": {},
     "outputs": [
      {
       "output_type": "stream",
       "stream": "stdout",
       "text": [
        "[1, 2, 3, 4, 5, 6, 7, 11, 34] [1, 2, 4, 7, 10, 23, 34, 55]\n",
        "0.416666666667\n",
        "0.7\n",
        "[2, 3] [1, 2, 3]\n",
        "0.666666666667\n",
        "0.666666666667\n"
       ]
      }
     ],
     "prompt_number": 12
    },
    {
     "cell_type": "markdown",
     "metadata": {},
     "source": [
      "The best case for this algorithm is 2logn = **O(logn)**, where n = max{len(A), len(B)}. Awesome! The worst case is nlogm, same as earlier. As we can see, it will give an incorrect value of the Jaccard Index. But it can do its task - comparing many sets - quite well, as we wanted.\n",
      "\n",
      "We start to realize that calculating the Jaccard Index is basically calculating the # of elements in common between A and B - the intersection. The next function provides a way to do it recursively, but the complexity is again nlogn."
     ]
    },
    {
     "cell_type": "code",
     "collapsed": false,
     "input": [
      "def recursiveIntersection(A, B):\n",
      "    if not A or not B:\n",
      "        return 0\n",
      "    elif len(A)>len(B):\n",
      "        A,B = B,A\n",
      "\n",
      "    x = 0\n",
      "    y = len(A)-1\n",
      "    \n",
      "    posX = binaryPosition(A[x], B)\n",
      "    while posX == -1 and x < len(A):\n",
      "        x+=1\n",
      "        posX = binaryPosition(A[x], B)\n",
      "    \n",
      "    if posX == -1:\n",
      "        return 0\n",
      "    else:\n",
      "        posY = binaryPosition(A[y], B)\n",
      "        while posY == -1 and y > 0:\n",
      "            y-=1\n",
      "            posY = binaryPosition(A[y], B)\n",
      "\n",
      "        if x == y:\n",
      "            return 1\n",
      "        elif x+1 == y:\n",
      "            return 2\n",
      "        else:\n",
      "            return 2+recIntersection(A[x+1:y],B[posX+1:posY])\n",
      "        \n",
      "print recursiveIntersection([-1,1,2,3,5,7],[2,3,4,5,7])"
     ],
     "language": "python",
     "metadata": {},
     "outputs": [
      {
       "output_type": "stream",
       "stream": "stdout",
       "text": [
        "4\n"
       ]
      }
     ],
     "prompt_number": 19
    },
    {
     "cell_type": "markdown",
     "metadata": {},
     "source": [
      "# Linear intersection\n",
      "\n",
      "There is a way of calculating the intersection between two sorted lists in O(n). This is beautiful, because now we can calculate the jaccard index in O(n). The linear algorithm is the following:"
     ]
    },
    {
     "cell_type": "code",
     "collapsed": false,
     "input": [
      "def linearIntersection(A, B):\n",
      "    if not A or not B:\n",
      "        return 0\n",
      "    i = 0\n",
      "    j = 0\n",
      "    intersection = 0\n",
      "    while i<len(A) and j<len(B):\n",
      "        if A[i] == B[j]:\n",
      "            i+=1\n",
      "            j+=1\n",
      "            intersection+=1\n",
      "        elif A[i]<B[j]:\n",
      "            i+=1\n",
      "        else:#B[j]<A[j]\n",
      "            j+=1\n",
      "    return intersection\n",
      "\n",
      "print linearIntersection([-1,1,2,3,5,7],[2,3,4,5,7])"
     ],
     "language": "python",
     "metadata": {},
     "outputs": [
      {
       "output_type": "stream",
       "stream": "stdout",
       "text": [
        "4\n"
       ]
      }
     ],
     "prompt_number": 20
    },
    {
     "cell_type": "markdown",
     "metadata": {},
     "source": [
      "And the linear jaccard:"
     ]
    },
    {
     "cell_type": "code",
     "collapsed": false,
     "input": [
      "def linearJaccard(A, B):\n",
      "    if not A or not B:\n",
      "        return 0\n",
      "    i = 0\n",
      "    j = 0\n",
      "    intersection = 0.0\n",
      "    while i<len(A) and j<len(B):\n",
      "        if A[i] == B[j]:\n",
      "            i+=1\n",
      "            j+=1\n",
      "            intersection+=1.0\n",
      "        elif A[i]<B[j]:\n",
      "            i+=1\n",
      "        else:#B[j]<A[j]\n",
      "            j+=1\n",
      "    return intersection/(len(A)+len(B)-intersection)\n",
      "\n",
      "A = [1,2,3,4,5,6,7,11,34]\n",
      "B = [1,2,4,7,10,23,34,55]\n",
      "\n",
      "print A, B\n",
      "print linearJaccard(A, B)\n",
      "\n",
      "A = [2,3]\n",
      "B = [1,2,3]\n",
      "print A, B\n",
      "print linearJaccard(A, B)"
     ],
     "language": "python",
     "metadata": {},
     "outputs": [
      {
       "output_type": "stream",
       "stream": "stdout",
       "text": [
        "[1, 2, 3, 4, 5, 6, 7, 11, 34] [1, 2, 4, 7, 10, 23, 34, 55]\n",
        "0.416666666667\n",
        "[2, 3] [1, 2, 3]\n",
        "0.666666666667\n"
       ]
      }
     ],
     "prompt_number": 21
    },
    {
     "cell_type": "markdown",
     "metadata": {},
     "source": [
      "This gives us the best exact algorithm possible. At this point, we have **two alternatives**. We know we can find the exact Jaccard Index in linear time, or approximating its value in O(logn) in the best case."
     ]
    },
    {
     "cell_type": "code",
     "collapsed": false,
     "input": [],
     "language": "python",
     "metadata": {},
     "outputs": []
    }
   ],
   "metadata": {}
  }
 ]
}